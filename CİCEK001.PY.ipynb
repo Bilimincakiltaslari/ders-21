{
 "cells": [
  {
   "cell_type": "code",
   "execution_count": 3,
   "metadata": {},
   "outputs": [],
   "source": [
    "# CİCEK001.PY\n",
    "from turtle import * \n",
    "speed(0)\n",
    "penup()\n",
    "goto(150,75)\n",
    "pendown()\n",
    "width(6)\n",
    "color(\"purple\",\"yellow\")\n",
    "begin_fill()\n",
    "for aci in range (0,360,18):\n",
    "    seth(aci)\n",
    "    circle(30,240)\n",
    "end_fill()\n",
    "penup()\n",
    "goto(150,75)\n",
    "\n",
    "begin_fill()\n",
    "penup()\n",
    "goto(95,85)\n",
    "pendown()\n",
    "width(4)\n",
    "color(\"magenta\",\"violet\")\n",
    "begin_fill()\n",
    "for aci in range (0,360,20):\n",
    "    seth(aci)\n",
    "    circle(30,270)\n",
    "end_fill()\n",
    "\n",
    "begin_fill()\n",
    "penup()\n",
    "goto(80,70)\n",
    "pendown()\n",
    "width(3)\n",
    "color(\"white\",\"purple\")\n",
    "begin_fill()\n",
    "for aci in range (0,360,24):\n",
    "    seth(aci)\n",
    "    circle(30,270)\n",
    "end_fill()\n",
    "penup()\n",
    "color (\"yellow\",\"red\")\n",
    "goto(45,37)\n",
    "pendown()\n",
    "width(2)\n",
    "begin_fill()\n",
    "for aci in range (0,360,45):\n",
    "    seth(aci)\n",
    "    circle(30,270)\n",
    "end_fill()\n",
    "penup()\n",
    "goto(-42,52)\n",
    "begin_fill()\n",
    "color(\"violet\",\"pink\")\n",
    "pendown()\n",
    "circle(52)\n",
    "end_fill()\n",
    "hideturtle()\n",
    "mainloop()"
   ]
  },
  {
   "cell_type": "code",
   "execution_count": null,
   "metadata": {},
   "outputs": [],
   "source": []
  }
 ],
 "metadata": {
  "kernelspec": {
   "display_name": "Python 3",
   "language": "python",
   "name": "python3"
  },
  "language_info": {
   "codemirror_mode": {
    "name": "ipython",
    "version": 3
   },
   "file_extension": ".py",
   "mimetype": "text/x-python",
   "name": "python",
   "nbconvert_exporter": "python",
   "pygments_lexer": "ipython3",
   "version": "3.7.3"
  }
 },
 "nbformat": 4,
 "nbformat_minor": 2
}
